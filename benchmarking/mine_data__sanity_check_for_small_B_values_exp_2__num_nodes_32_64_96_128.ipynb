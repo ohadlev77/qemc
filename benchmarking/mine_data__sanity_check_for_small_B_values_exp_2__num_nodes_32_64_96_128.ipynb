{
 "cells": [
  {
   "cell_type": "code",
   "execution_count": 13,
   "id": "935759de",
   "metadata": {},
   "outputs": [
    {
     "name": "stdout",
     "output_type": "stream",
     "text": [
      "Graph with 32 nodes, connected? True.\n",
      "Graph with 64 nodes, connected? True.\n",
      "Graph with 96 nodes, connected? True.\n",
      "Graph with 128 nodes, connected? True.\n"
     ]
    }
   ],
   "source": [
    "import networkx as nx\n",
    "\n",
    "graphs = []\n",
    "for num_nodes in range(32, 129, 32):\n",
    "    graph = nx.erdos_renyi_graph(num_nodes, p=0.4)\n",
    "    print(f\"Graph with {num_nodes} nodes, connected? {nx.is_connected(graph)}.\")\n",
    "    graph.name = f\"graph_ER_p0.4__{num_nodes}_nodes\"\n",
    "    graphs.append(graph)"
   ]
  },
  {
   "cell_type": "code",
   "execution_count": 14,
   "id": "d1f31075",
   "metadata": {},
   "outputs": [],
   "source": [
    "from qiskit_aer import StatevectorSimulator\n",
    "from executer import QEMCExecuter\n",
    "\n",
    "qemc_exec = QEMCExecuter(\"sanity_check_for_small_B_values_exp_ER_graphs__num_nodes_32_64_96_128\")\n",
    "qemc_exec.define_graphs(graphs)\n",
    "qemc_exec.define_qemc_parameters(\n",
    "    shots=[None],\n",
    "    num_layers=[5],\n",
    "    num_blue_nodes=[None, 2, 4, 8]\n",
    ")\n",
    "qemc_exec.define_optimization_process(\n",
    "    optimization_method=\"COBYLA\",\n",
    "    optimization_options=[{\"maxiter\": 1_000}]\n",
    ")\n",
    "qemc_exec.define_backends([StatevectorSimulator()])"
   ]
  },
  {
   "cell_type": "code",
   "execution_count": 15,
   "id": "8d37ce86",
   "metadata": {},
   "outputs": [
    {
     "name": "stdout",
     "output_type": "stream",
     "text": [
      "Executing experiment.\n",
      "Executing graph=Graph named 'graph_ER_p0.4__32_nodes' with 32 nodes and 206 edges, backend=statevector_simulator, num_blue_nodes=None, num_layers=5, shots=None, sample=0, rhobeg=None.\n",
      "Executing graph=Graph named 'graph_ER_p0.4__32_nodes' with 32 nodes and 206 edges, backend=statevector_simulator, num_blue_nodes=None, num_layers=5, shots=None, sample=1, rhobeg=None.\n",
      "Executing graph=Graph named 'graph_ER_p0.4__32_nodes' with 32 nodes and 206 edges, backend=statevector_simulator, num_blue_nodes=None, num_layers=5, shots=None, sample=2, rhobeg=None.\n",
      "Done with this setting.\n",
      "Executing graph=Graph named 'graph_ER_p0.4__32_nodes' with 32 nodes and 206 edges, backend=statevector_simulator, num_blue_nodes=2, num_layers=5, shots=None, sample=0, rhobeg=None.\n",
      "Executing graph=Graph named 'graph_ER_p0.4__32_nodes' with 32 nodes and 206 edges, backend=statevector_simulator, num_blue_nodes=2, num_layers=5, shots=None, sample=1, rhobeg=None.\n",
      "Executing graph=Graph named 'graph_ER_p0.4__32_nodes' with 32 nodes and 206 edges, backend=statevector_simulator, num_blue_nodes=2, num_layers=5, shots=None, sample=2, rhobeg=None.\n",
      "Done with this setting.\n",
      "Executing graph=Graph named 'graph_ER_p0.4__32_nodes' with 32 nodes and 206 edges, backend=statevector_simulator, num_blue_nodes=4, num_layers=5, shots=None, sample=0, rhobeg=None.\n",
      "Executing graph=Graph named 'graph_ER_p0.4__32_nodes' with 32 nodes and 206 edges, backend=statevector_simulator, num_blue_nodes=4, num_layers=5, shots=None, sample=1, rhobeg=None.\n",
      "Executing graph=Graph named 'graph_ER_p0.4__32_nodes' with 32 nodes and 206 edges, backend=statevector_simulator, num_blue_nodes=4, num_layers=5, shots=None, sample=2, rhobeg=None.\n",
      "Done with this setting.\n",
      "Executing graph=Graph named 'graph_ER_p0.4__32_nodes' with 32 nodes and 206 edges, backend=statevector_simulator, num_blue_nodes=8, num_layers=5, shots=None, sample=0, rhobeg=None.\n",
      "Executing graph=Graph named 'graph_ER_p0.4__32_nodes' with 32 nodes and 206 edges, backend=statevector_simulator, num_blue_nodes=8, num_layers=5, shots=None, sample=1, rhobeg=None.\n",
      "Executing graph=Graph named 'graph_ER_p0.4__32_nodes' with 32 nodes and 206 edges, backend=statevector_simulator, num_blue_nodes=8, num_layers=5, shots=None, sample=2, rhobeg=None.\n",
      "Done with this setting.\n",
      "Executing graph=Graph named 'graph_ER_p0.4__64_nodes' with 64 nodes and 809 edges, backend=statevector_simulator, num_blue_nodes=None, num_layers=5, shots=None, sample=0, rhobeg=None.\n",
      "Executing graph=Graph named 'graph_ER_p0.4__64_nodes' with 64 nodes and 809 edges, backend=statevector_simulator, num_blue_nodes=None, num_layers=5, shots=None, sample=1, rhobeg=None.\n",
      "Executing graph=Graph named 'graph_ER_p0.4__64_nodes' with 64 nodes and 809 edges, backend=statevector_simulator, num_blue_nodes=None, num_layers=5, shots=None, sample=2, rhobeg=None.\n",
      "Done with this setting.\n",
      "Executing graph=Graph named 'graph_ER_p0.4__64_nodes' with 64 nodes and 809 edges, backend=statevector_simulator, num_blue_nodes=2, num_layers=5, shots=None, sample=0, rhobeg=None.\n",
      "Executing graph=Graph named 'graph_ER_p0.4__64_nodes' with 64 nodes and 809 edges, backend=statevector_simulator, num_blue_nodes=2, num_layers=5, shots=None, sample=1, rhobeg=None.\n",
      "Executing graph=Graph named 'graph_ER_p0.4__64_nodes' with 64 nodes and 809 edges, backend=statevector_simulator, num_blue_nodes=2, num_layers=5, shots=None, sample=2, rhobeg=None.\n",
      "Done with this setting.\n",
      "Executing graph=Graph named 'graph_ER_p0.4__64_nodes' with 64 nodes and 809 edges, backend=statevector_simulator, num_blue_nodes=4, num_layers=5, shots=None, sample=0, rhobeg=None.\n",
      "Executing graph=Graph named 'graph_ER_p0.4__64_nodes' with 64 nodes and 809 edges, backend=statevector_simulator, num_blue_nodes=4, num_layers=5, shots=None, sample=1, rhobeg=None.\n",
      "Executing graph=Graph named 'graph_ER_p0.4__64_nodes' with 64 nodes and 809 edges, backend=statevector_simulator, num_blue_nodes=4, num_layers=5, shots=None, sample=2, rhobeg=None.\n",
      "Done with this setting.\n",
      "Executing graph=Graph named 'graph_ER_p0.4__64_nodes' with 64 nodes and 809 edges, backend=statevector_simulator, num_blue_nodes=8, num_layers=5, shots=None, sample=0, rhobeg=None.\n",
      "Executing graph=Graph named 'graph_ER_p0.4__64_nodes' with 64 nodes and 809 edges, backend=statevector_simulator, num_blue_nodes=8, num_layers=5, shots=None, sample=1, rhobeg=None.\n",
      "Executing graph=Graph named 'graph_ER_p0.4__64_nodes' with 64 nodes and 809 edges, backend=statevector_simulator, num_blue_nodes=8, num_layers=5, shots=None, sample=2, rhobeg=None.\n",
      "Done with this setting.\n",
      "Executing graph=Graph named 'graph_ER_p0.4__96_nodes' with 96 nodes and 1833 edges, backend=statevector_simulator, num_blue_nodes=None, num_layers=5, shots=None, sample=0, rhobeg=None.\n",
      "Executing graph=Graph named 'graph_ER_p0.4__96_nodes' with 96 nodes and 1833 edges, backend=statevector_simulator, num_blue_nodes=None, num_layers=5, shots=None, sample=1, rhobeg=None.\n",
      "Executing graph=Graph named 'graph_ER_p0.4__96_nodes' with 96 nodes and 1833 edges, backend=statevector_simulator, num_blue_nodes=None, num_layers=5, shots=None, sample=2, rhobeg=None.\n",
      "Done with this setting.\n",
      "Executing graph=Graph named 'graph_ER_p0.4__96_nodes' with 96 nodes and 1833 edges, backend=statevector_simulator, num_blue_nodes=2, num_layers=5, shots=None, sample=0, rhobeg=None.\n",
      "Executing graph=Graph named 'graph_ER_p0.4__96_nodes' with 96 nodes and 1833 edges, backend=statevector_simulator, num_blue_nodes=2, num_layers=5, shots=None, sample=1, rhobeg=None.\n",
      "Executing graph=Graph named 'graph_ER_p0.4__96_nodes' with 96 nodes and 1833 edges, backend=statevector_simulator, num_blue_nodes=2, num_layers=5, shots=None, sample=2, rhobeg=None.\n",
      "Done with this setting.\n",
      "Executing graph=Graph named 'graph_ER_p0.4__96_nodes' with 96 nodes and 1833 edges, backend=statevector_simulator, num_blue_nodes=4, num_layers=5, shots=None, sample=0, rhobeg=None.\n",
      "Executing graph=Graph named 'graph_ER_p0.4__96_nodes' with 96 nodes and 1833 edges, backend=statevector_simulator, num_blue_nodes=4, num_layers=5, shots=None, sample=1, rhobeg=None.\n",
      "Executing graph=Graph named 'graph_ER_p0.4__96_nodes' with 96 nodes and 1833 edges, backend=statevector_simulator, num_blue_nodes=4, num_layers=5, shots=None, sample=2, rhobeg=None.\n",
      "Done with this setting.\n",
      "Executing graph=Graph named 'graph_ER_p0.4__96_nodes' with 96 nodes and 1833 edges, backend=statevector_simulator, num_blue_nodes=8, num_layers=5, shots=None, sample=0, rhobeg=None.\n",
      "Executing graph=Graph named 'graph_ER_p0.4__96_nodes' with 96 nodes and 1833 edges, backend=statevector_simulator, num_blue_nodes=8, num_layers=5, shots=None, sample=1, rhobeg=None.\n",
      "Executing graph=Graph named 'graph_ER_p0.4__96_nodes' with 96 nodes and 1833 edges, backend=statevector_simulator, num_blue_nodes=8, num_layers=5, shots=None, sample=2, rhobeg=None.\n",
      "Done with this setting.\n",
      "Executing graph=Graph named 'graph_ER_p0.4__128_nodes' with 128 nodes and 3203 edges, backend=statevector_simulator, num_blue_nodes=None, num_layers=5, shots=None, sample=0, rhobeg=None.\n",
      "Executing graph=Graph named 'graph_ER_p0.4__128_nodes' with 128 nodes and 3203 edges, backend=statevector_simulator, num_blue_nodes=None, num_layers=5, shots=None, sample=1, rhobeg=None.\n",
      "Executing graph=Graph named 'graph_ER_p0.4__128_nodes' with 128 nodes and 3203 edges, backend=statevector_simulator, num_blue_nodes=None, num_layers=5, shots=None, sample=2, rhobeg=None.\n",
      "Done with this setting.\n",
      "Executing graph=Graph named 'graph_ER_p0.4__128_nodes' with 128 nodes and 3203 edges, backend=statevector_simulator, num_blue_nodes=2, num_layers=5, shots=None, sample=0, rhobeg=None.\n",
      "Executing graph=Graph named 'graph_ER_p0.4__128_nodes' with 128 nodes and 3203 edges, backend=statevector_simulator, num_blue_nodes=2, num_layers=5, shots=None, sample=1, rhobeg=None.\n",
      "Executing graph=Graph named 'graph_ER_p0.4__128_nodes' with 128 nodes and 3203 edges, backend=statevector_simulator, num_blue_nodes=2, num_layers=5, shots=None, sample=2, rhobeg=None.\n",
      "Done with this setting.\n",
      "Executing graph=Graph named 'graph_ER_p0.4__128_nodes' with 128 nodes and 3203 edges, backend=statevector_simulator, num_blue_nodes=4, num_layers=5, shots=None, sample=0, rhobeg=None.\n"
     ]
    },
    {
     "name": "stdout",
     "output_type": "stream",
     "text": [
      "Executing graph=Graph named 'graph_ER_p0.4__128_nodes' with 128 nodes and 3203 edges, backend=statevector_simulator, num_blue_nodes=4, num_layers=5, shots=None, sample=1, rhobeg=None.\n",
      "Executing graph=Graph named 'graph_ER_p0.4__128_nodes' with 128 nodes and 3203 edges, backend=statevector_simulator, num_blue_nodes=4, num_layers=5, shots=None, sample=2, rhobeg=None.\n",
      "Done with this setting.\n",
      "Executing graph=Graph named 'graph_ER_p0.4__128_nodes' with 128 nodes and 3203 edges, backend=statevector_simulator, num_blue_nodes=8, num_layers=5, shots=None, sample=0, rhobeg=None.\n",
      "Executing graph=Graph named 'graph_ER_p0.4__128_nodes' with 128 nodes and 3203 edges, backend=statevector_simulator, num_blue_nodes=8, num_layers=5, shots=None, sample=1, rhobeg=None.\n",
      "Executing graph=Graph named 'graph_ER_p0.4__128_nodes' with 128 nodes and 3203 edges, backend=statevector_simulator, num_blue_nodes=8, num_layers=5, shots=None, sample=2, rhobeg=None.\n",
      "Done with this setting.\n",
      "DONE ALL.\n"
     ]
    }
   ],
   "source": [
    "qemc_exec.execute_export(\n",
    "    num_samples=3,\n",
    "    export_path=\"EXP_DATA\"\n",
    ")"
   ]
  }
 ],
 "metadata": {
  "kernelspec": {
   "display_name": "Python 3 (ipykernel)",
   "language": "python",
   "name": "python3"
  },
  "language_info": {
   "codemirror_mode": {
    "name": "ipython",
    "version": 3
   },
   "file_extension": ".py",
   "mimetype": "text/x-python",
   "name": "python",
   "nbconvert_exporter": "python",
   "pygments_lexer": "ipython3",
   "version": "3.10.12"
  }
 },
 "nbformat": 4,
 "nbformat_minor": 5
}
