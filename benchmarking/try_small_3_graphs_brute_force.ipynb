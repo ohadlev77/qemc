{
 "cells": [
  {
   "cell_type": "code",
   "execution_count": null,
   "id": "551a8c5a",
   "metadata": {},
   "outputs": [
    {
     "name": "stdout",
     "output_type": "stream",
     "text": [
      "GRAPH 0 - |V| = 16, |E| = 34:\n",
      "BRUTE FORCE SCORE =  27\n",
      "BRUTE FORCE MAXCUT PARTITIONs =  {'1100100111010010', '1100100110010110', '1100100111010110', '1101100110000110', '0011011001101001', '0010011001111001', '0011011000101101', '0011011000101001'}\n",
      "\n",
      "GRAPH 1 - |V| = 20, |E| = 63:\n",
      "BRUTE FORCE SCORE =  46\n",
      "BRUTE FORCE MAXCUT PARTITIONs =  {'00101000100011011111', '11010111011100100000', '10101000100111011011', '00101000100111011111', '11010111011000100000', '01010111011000100100'}\n",
      "\n",
      "GRAPH 2 - |V| = 24, |E| = 74:\n",
      "BRUTE FORCE SCORE =  54\n",
      "BRUTE FORCE MAXCUT PARTITIONs =  {'101011100100011100000110', '101011100100011100001110', '010100011011100011111000', '101011100100011100000111', '101011100101011100001011', '010100011011100011110001', '010100011010100011110100', '101011100000011110000110', '010100011111100001111001', '010100011011100011110000', '101011100100011100001111', '010100011011100011111001'}\n",
      "\n",
      "GRAPH 3 - |V| = 28, |E| = 107:\n"
     ]
    }
   ],
   "source": [
    "import networkx as nx\n",
    "from qemc.classical_functions import brute_force_maxcut\n",
    "\n",
    "root = \"EXP_DATA/try_small_3/\"\n",
    "num_instances = 5\n",
    "bf_cuts = []\n",
    "\n",
    "for graph_index in range(num_instances):\n",
    "    graph_path = f\"{root}graph_G_{graph_index}/\"\n",
    "    \n",
    "    graph = nx.read_graphml(f\"{graph_path}graph.graphml\")\n",
    "    num_nodes = graph.number_of_nodes()\n",
    "    num_edges = graph.number_of_edges()\n",
    "    print(f\"GRAPH {graph_index} - |V| = {num_nodes}, |E| = {num_edges}:\")\n",
    "    \n",
    "    bf_cut = brute_force_maxcut(graph)\n",
    "    bf_cuts.append(bf_cut)\n",
    "    print(\"BRUTE FORCE SCORE = \", bf_cut.best_score)\n",
    "    print(\"BRUTE FORCE MAXCUT PARTITIONs = \", bf_cut.optimal_partitions)\n",
    "    print()"
   ]
  }
 ],
 "metadata": {
  "kernelspec": {
   "display_name": "Python 3 (ipykernel)",
   "language": "python",
   "name": "python3"
  },
  "language_info": {
   "codemirror_mode": {
    "name": "ipython",
    "version": 3
   },
   "file_extension": ".py",
   "mimetype": "text/x-python",
   "name": "python",
   "nbconvert_exporter": "python",
   "pygments_lexer": "ipython3",
   "version": "3.10.12"
  }
 },
 "nbformat": 4,
 "nbformat_minor": 5
}
