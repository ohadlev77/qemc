{
 "cells": [
  {
   "cell_type": "code",
   "execution_count": 26,
   "id": "8d66206e",
   "metadata": {},
   "outputs": [
    {
     "name": "stdout",
     "output_type": "stream",
     "text": [
      "Graph with 8 nodes, connected? True.\n",
      "Graph with 12 nodes, connected? True.\n",
      "Graph with 16 nodes, connected? True.\n"
     ]
    }
   ],
   "source": [
    "import networkx as nx\n",
    "\n",
    "graphs = []\n",
    "for num_nodes in range(8, 17, 4):\n",
    "    graph = nx.erdos_renyi_graph(num_nodes, p=0.4)\n",
    "    print(f\"Graph with {num_nodes} nodes, connected? {nx.is_connected(graph)}.\")\n",
    "    graph.name = f\"g_3_regular__{num_nodes}_nodes\"\n",
    "    graphs.append(graph)"
   ]
  },
  {
   "cell_type": "code",
   "execution_count": 28,
   "id": "beab197f",
   "metadata": {},
   "outputs": [],
   "source": [
    "from qiskit_aer import StatevectorSimulator\n",
    "from executer import QEMCExecuter\n",
    "\n",
    "qemc_exec = QEMCExecuter(\"sanity_check_for_small_B_values_exp_ER_graphs\")\n",
    "qemc_exec.define_graphs(graphs)\n",
    "qemc_exec.define_qemc_parameters(\n",
    "    shots=[None],\n",
    "    num_layers=[4],\n",
    "    num_blue_nodes=[None, 2, 4]\n",
    ")\n",
    "qemc_exec.define_optimization_process(\n",
    "    optimization_method=\"COBYLA\",\n",
    "    optimization_options=[{\"maxiter\": 1_000}]\n",
    ")\n",
    "qemc_exec.define_backends([StatevectorSimulator()])"
   ]
  },
  {
   "cell_type": "code",
   "execution_count": 29,
   "id": "6d1c0c70",
   "metadata": {},
   "outputs": [
    {
     "name": "stdout",
     "output_type": "stream",
     "text": [
      "Executing experiment.\n",
      "Executing graph=Graph named 'g_3_regular__8_nodes' with 8 nodes and 13 edges, backend=statevector_simulator, num_blue_nodes=None, num_layers=4, shots=None, sample=0, rhobeg=None.\n",
      "Executing graph=Graph named 'g_3_regular__8_nodes' with 8 nodes and 13 edges, backend=statevector_simulator, num_blue_nodes=None, num_layers=4, shots=None, sample=1, rhobeg=None.\n",
      "Executing graph=Graph named 'g_3_regular__8_nodes' with 8 nodes and 13 edges, backend=statevector_simulator, num_blue_nodes=None, num_layers=4, shots=None, sample=2, rhobeg=None.\n",
      "Done with this setting.\n",
      "Executing graph=Graph named 'g_3_regular__8_nodes' with 8 nodes and 13 edges, backend=statevector_simulator, num_blue_nodes=2, num_layers=4, shots=None, sample=0, rhobeg=None.\n",
      "Executing graph=Graph named 'g_3_regular__8_nodes' with 8 nodes and 13 edges, backend=statevector_simulator, num_blue_nodes=2, num_layers=4, shots=None, sample=1, rhobeg=None.\n",
      "Executing graph=Graph named 'g_3_regular__8_nodes' with 8 nodes and 13 edges, backend=statevector_simulator, num_blue_nodes=2, num_layers=4, shots=None, sample=2, rhobeg=None.\n",
      "Done with this setting.\n",
      "Executing graph=Graph named 'g_3_regular__8_nodes' with 8 nodes and 13 edges, backend=statevector_simulator, num_blue_nodes=4, num_layers=4, shots=None, sample=0, rhobeg=None.\n",
      "Executing graph=Graph named 'g_3_regular__8_nodes' with 8 nodes and 13 edges, backend=statevector_simulator, num_blue_nodes=4, num_layers=4, shots=None, sample=1, rhobeg=None.\n",
      "Executing graph=Graph named 'g_3_regular__8_nodes' with 8 nodes and 13 edges, backend=statevector_simulator, num_blue_nodes=4, num_layers=4, shots=None, sample=2, rhobeg=None.\n",
      "Done with this setting.\n",
      "Executing graph=Graph named 'g_3_regular__12_nodes' with 12 nodes and 30 edges, backend=statevector_simulator, num_blue_nodes=None, num_layers=4, shots=None, sample=0, rhobeg=None.\n",
      "Executing graph=Graph named 'g_3_regular__12_nodes' with 12 nodes and 30 edges, backend=statevector_simulator, num_blue_nodes=None, num_layers=4, shots=None, sample=1, rhobeg=None.\n",
      "Executing graph=Graph named 'g_3_regular__12_nodes' with 12 nodes and 30 edges, backend=statevector_simulator, num_blue_nodes=None, num_layers=4, shots=None, sample=2, rhobeg=None.\n",
      "Done with this setting.\n",
      "Executing graph=Graph named 'g_3_regular__12_nodes' with 12 nodes and 30 edges, backend=statevector_simulator, num_blue_nodes=2, num_layers=4, shots=None, sample=0, rhobeg=None.\n",
      "Executing graph=Graph named 'g_3_regular__12_nodes' with 12 nodes and 30 edges, backend=statevector_simulator, num_blue_nodes=2, num_layers=4, shots=None, sample=1, rhobeg=None.\n",
      "Executing graph=Graph named 'g_3_regular__12_nodes' with 12 nodes and 30 edges, backend=statevector_simulator, num_blue_nodes=2, num_layers=4, shots=None, sample=2, rhobeg=None.\n",
      "Done with this setting.\n",
      "Executing graph=Graph named 'g_3_regular__12_nodes' with 12 nodes and 30 edges, backend=statevector_simulator, num_blue_nodes=4, num_layers=4, shots=None, sample=0, rhobeg=None.\n",
      "Executing graph=Graph named 'g_3_regular__12_nodes' with 12 nodes and 30 edges, backend=statevector_simulator, num_blue_nodes=4, num_layers=4, shots=None, sample=1, rhobeg=None.\n",
      "Executing graph=Graph named 'g_3_regular__12_nodes' with 12 nodes and 30 edges, backend=statevector_simulator, num_blue_nodes=4, num_layers=4, shots=None, sample=2, rhobeg=None.\n",
      "Done with this setting.\n",
      "Executing graph=Graph named 'g_3_regular__16_nodes' with 16 nodes and 43 edges, backend=statevector_simulator, num_blue_nodes=None, num_layers=4, shots=None, sample=0, rhobeg=None.\n",
      "Executing graph=Graph named 'g_3_regular__16_nodes' with 16 nodes and 43 edges, backend=statevector_simulator, num_blue_nodes=None, num_layers=4, shots=None, sample=1, rhobeg=None.\n",
      "Executing graph=Graph named 'g_3_regular__16_nodes' with 16 nodes and 43 edges, backend=statevector_simulator, num_blue_nodes=None, num_layers=4, shots=None, sample=2, rhobeg=None.\n",
      "Done with this setting.\n",
      "Executing graph=Graph named 'g_3_regular__16_nodes' with 16 nodes and 43 edges, backend=statevector_simulator, num_blue_nodes=2, num_layers=4, shots=None, sample=0, rhobeg=None.\n",
      "Executing graph=Graph named 'g_3_regular__16_nodes' with 16 nodes and 43 edges, backend=statevector_simulator, num_blue_nodes=2, num_layers=4, shots=None, sample=1, rhobeg=None.\n",
      "Executing graph=Graph named 'g_3_regular__16_nodes' with 16 nodes and 43 edges, backend=statevector_simulator, num_blue_nodes=2, num_layers=4, shots=None, sample=2, rhobeg=None.\n",
      "Done with this setting.\n",
      "Executing graph=Graph named 'g_3_regular__16_nodes' with 16 nodes and 43 edges, backend=statevector_simulator, num_blue_nodes=4, num_layers=4, shots=None, sample=0, rhobeg=None.\n",
      "Executing graph=Graph named 'g_3_regular__16_nodes' with 16 nodes and 43 edges, backend=statevector_simulator, num_blue_nodes=4, num_layers=4, shots=None, sample=1, rhobeg=None.\n",
      "Executing graph=Graph named 'g_3_regular__16_nodes' with 16 nodes and 43 edges, backend=statevector_simulator, num_blue_nodes=4, num_layers=4, shots=None, sample=2, rhobeg=None.\n",
      "Done with this setting.\n",
      "DONE ALL.\n"
     ]
    }
   ],
   "source": [
    "qemc_exec.execute_export(\n",
    "    num_samples=3,\n",
    "    export_path=\"EXP_DATA\"\n",
    ")"
   ]
  },
  {
   "cell_type": "code",
   "execution_count": 30,
   "id": "c73457e8",
   "metadata": {},
   "outputs": [
    {
     "name": "stdout",
     "output_type": "stream",
     "text": [
      "9\n",
      "\n",
      "22\n",
      "\n",
      "31\n",
      "\n"
     ]
    }
   ],
   "source": [
    "from qemc.classical_functions import brute_force_maxcut\n",
    "\n",
    "for graph in graphs:\n",
    "    print(brute_force_maxcut(graph).best_score)\n",
    "    print()"
   ]
  }
 ],
 "metadata": {
  "kernelspec": {
   "display_name": "Python 3 (ipykernel)",
   "language": "python",
   "name": "python3"
  },
  "language_info": {
   "codemirror_mode": {
    "name": "ipython",
    "version": 3
   },
   "file_extension": ".py",
   "mimetype": "text/x-python",
   "name": "python",
   "nbconvert_exporter": "python",
   "pygments_lexer": "ipython3",
   "version": "3.10.12"
  }
 },
 "nbformat": 4,
 "nbformat_minor": 5
}
