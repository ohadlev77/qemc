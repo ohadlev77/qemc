{
 "cells": [
  {
   "cell_type": "code",
   "execution_count": null,
   "id": "eccecbd8",
   "metadata": {
    "scrolled": false
   },
   "outputs": [],
   "source": [
    "# G2\n",
    "from qiskit_aer import StatevectorSimulator\n",
    "\n",
    "import networkx as nx\n",
    "from qiskit_aer import StatevectorSimulator\n",
    "from executer import QEMCExecuter\n",
    "\n",
    "graphs = [nx.read_graphml(\"EXP_DATA/try_small_3/graph_G_2/graph.graphml\")]\n",
    "\n",
    "ex = QEMCExecuter(\"try_small_3__G2_B11\")\n",
    "ex.define_graphs(graphs)\n",
    "ex.define_qemc_parameters(\n",
    "    shots=[None],\n",
    "    num_layers=[2, 4, 6, 8],\n",
    "    num_blue_nodes=[None]\n",
    ")\n",
    "\n",
    "ex.define_backends([StatevectorSimulator()])\n",
    "\n",
    "ex.define_optimization_process(\n",
    "    optimization_method=\"COBYLA\",\n",
    "    optimization_options=[{\"maxiter\": 5_000}]\n",
    ")\n",
    "\n",
    "ex.execute_export(num_samples=3, export_path=\"EXP_DATA\")"
   ]
  },
  {
   "cell_type": "code",
   "execution_count": 4,
   "id": "83f21db9",
   "metadata": {},
   "outputs": [
    {
     "name": "stdout",
     "output_type": "stream",
     "text": [
      "Executing experiment.\n",
      "Executing graph=Graph named 'G_4' with 32 nodes and 159 edges, backend=statevector_simulator, num_blue_nodes=15, num_layers=2, shots=None, sample=0, rhobeg=None.\n",
      "Executing graph=Graph named 'G_4' with 32 nodes and 159 edges, backend=statevector_simulator, num_blue_nodes=15, num_layers=2, shots=None, sample=1, rhobeg=None.\n",
      "Executing graph=Graph named 'G_4' with 32 nodes and 159 edges, backend=statevector_simulator, num_blue_nodes=15, num_layers=2, shots=None, sample=2, rhobeg=None.\n",
      "Done with this setting.\n",
      "Executing graph=Graph named 'G_4' with 32 nodes and 159 edges, backend=statevector_simulator, num_blue_nodes=15, num_layers=4, shots=None, sample=0, rhobeg=None.\n",
      "Executing graph=Graph named 'G_4' with 32 nodes and 159 edges, backend=statevector_simulator, num_blue_nodes=15, num_layers=4, shots=None, sample=1, rhobeg=None.\n",
      "Executing graph=Graph named 'G_4' with 32 nodes and 159 edges, backend=statevector_simulator, num_blue_nodes=15, num_layers=4, shots=None, sample=2, rhobeg=None.\n",
      "Done with this setting.\n",
      "Executing graph=Graph named 'G_4' with 32 nodes and 159 edges, backend=statevector_simulator, num_blue_nodes=15, num_layers=6, shots=None, sample=0, rhobeg=None.\n",
      "Executing graph=Graph named 'G_4' with 32 nodes and 159 edges, backend=statevector_simulator, num_blue_nodes=15, num_layers=6, shots=None, sample=1, rhobeg=None.\n",
      "Executing graph=Graph named 'G_4' with 32 nodes and 159 edges, backend=statevector_simulator, num_blue_nodes=15, num_layers=6, shots=None, sample=2, rhobeg=None.\n",
      "Done with this setting.\n",
      "Executing graph=Graph named 'G_4' with 32 nodes and 159 edges, backend=statevector_simulator, num_blue_nodes=15, num_layers=8, shots=None, sample=0, rhobeg=None.\n",
      "Executing graph=Graph named 'G_4' with 32 nodes and 159 edges, backend=statevector_simulator, num_blue_nodes=15, num_layers=8, shots=None, sample=1, rhobeg=None.\n",
      "Executing graph=Graph named 'G_4' with 32 nodes and 159 edges, backend=statevector_simulator, num_blue_nodes=15, num_layers=8, shots=None, sample=2, rhobeg=None.\n",
      "Done with this setting.\n",
      "DONE ALL.\n"
     ]
    }
   ],
   "source": [
    "# G4\n",
    "\n",
    "graphs = [nx.read_graphml(\"EXP_DATA/try_small_3/graph_G_4/graph.graphml\")]\n",
    "\n",
    "ex = QEMCExecuter(\"try_small_3__G4_B15\")\n",
    "ex.define_graphs(graphs)\n",
    "ex.define_qemc_parameters(\n",
    "    shots=[None],\n",
    "    num_layers=[2, 4, 6, 8],\n",
    "    num_blue_nodes=[15]\n",
    ")\n",
    "\n",
    "ex.define_backends([StatevectorSimulator()])\n",
    "\n",
    "ex.define_optimization_process(\n",
    "    optimization_method=\"COBYLA\",\n",
    "    optimization_options=[{\"maxiter\": 5_000}]\n",
    ")\n",
    "\n",
    "ex.execute_export(num_samples=3, export_path=\"EXP_DATA\")"
   ]
  }
 ],
 "metadata": {
  "kernelspec": {
   "display_name": "Python 3 (ipykernel)",
   "language": "python",
   "name": "python3"
  },
  "language_info": {
   "codemirror_mode": {
    "name": "ipython",
    "version": 3
   },
   "file_extension": ".py",
   "mimetype": "text/x-python",
   "name": "python",
   "nbconvert_exporter": "python",
   "pygments_lexer": "ipython3",
   "version": "3.10.12"
  }
 },
 "nbformat": 4,
 "nbformat_minor": 5
}
