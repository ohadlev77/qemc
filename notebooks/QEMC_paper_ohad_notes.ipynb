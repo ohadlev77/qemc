{
 "cells": [
  {
   "cell_type": "markdown",
   "id": "1027c02a",
   "metadata": {},
   "source": [
    "# QEMC Paper - Ohad's Notes\n",
    "\n",
    "## Abstract\n",
    "\n",
    "1. \"Our method uses a novel information encoding scheme that requires log N qubits to address N-node<u style=\"color: green\">**s**</u> graphs\".\n",
    "\n",
    "\n",
    "## Section $I$\n",
    "\n",
    "1. \"Quantum computing provides <s style=\"color: red\">**the**</s> hope for an efficient computation scheme, much beyond the standard classical scheme\".\n",
    "2. \"In particular, it requires N qubits for solving the MaxCut problem of a<u style=\"color: green\">**n**</u> N-nodes graph\".\n",
    "3. \"Last<s style=\"color: red\">**e**</s>ly, a quantum method utilizing log(n) qubits was introduced in [16][17]\".\n",
    "4. \"Sec. VI<s style=\"color: red\">**I**</s> discusses the efficiency of\" - I think.\n",
    "\n",
    "## FIG. 1\n",
    "\n",
    "1. A dot is missing in the end of the description.\n",
    "\n",
    "\n",
    "## Section $II$\n",
    "\n",
    "1. \"The MaxCut problem is a<u style=\"color: green\">**n**</u> NP-hard [18] combinatorial problem\".\n",
    "2. \"Let $G = (V, E)$ be a (weighted) graph with nodes $V$ and (weighted) edges $E$<u style=\"color: green\">**,**</u> then finding the MaxCut amounts to partition the nodes <u style=\"color: green\">**in**</u>to two distinct subsets\".\n",
    "\n",
    "## Section $III$\n",
    "\n",
    "1. \"The QEMC maps each graph’s node k into the corresponding computational basis <u style=\"color: green\">**state**</u> $|k\\rangle$\".\n",
    "\n",
    "## Section $IV$\n",
    "\n",
    "### Subsection $IV$-A\n",
    "1. \"whose application on problem-<s style=\"color: red\">**depended**</s><u style=\"color: green\">**dependent**</u> ansatze is not straightforward\"."
   ]
  },
  {
   "cell_type": "markdown",
   "id": "8b87ca8f",
   "metadata": {},
   "source": [
    "### Subsection $IV$-B\n",
    "\n",
    "1. \"The rest of the graphs, i.e. those with 24-32 nodes, were generated randomly <s style=\"color: red\">through</s><u style=\"color: green\">using</u> the Networkx package\".\n",
    "2. \"As an elaborated example, we focus on the 8-node<u style=\"color: green\">s</u> graph of [8]\".\n",
    "3. \"<s style=\"color: red\">IN</s><u style=\"color: green\">In</u> particular, the average noiseless QEMC simulation is shown to outperform the average GW results for all <s style=\"color: red\">graphs’ instances</s><u style=\"color: green\">the graph-instances</u>\".\n",
    "4. \"It is also seen that the average real-hardware reach the optimal cuts for both the 4<s style=\"color: red\">-</s> and 8-nodes graphs\".\n",
    "5. \"This decline is due to our limited quantum computing resources: first, the number of iteration is limited. For example, for the 32-node graph we had only 54 iterations on average, whereas the noiseless simulation used 300 iterations\" - What do you mean by \"We had only 54 iterations\"?\n",
    "6. \"second, as the number of qubits grow<u style=\"color: green\">s</u>, more layers are needed\".\n",
    "\n",
    "### Subsection $IV$-C\n",
    "\n",
    "1. \"where the Max QEMC curve (<s style=\"color: red\">blue</s><u style=\"color: green\">red</u>) converges faster\"."
   ]
  },
  {
   "cell_type": "markdown",
   "id": "ece4657a",
   "metadata": {},
   "source": [
    "## Section $V$\n",
    "\n",
    "1. Title - \"COMPUTATIONAL RESOURCE<u style=\"color: green\">S</u> ESTIMATION\".\n",
    "2. Formally, $E$ is the set of edges, and $|E|$ is the cardinality of $E$, that is the number of edges.\n",
    "3. <s style=\"color: red\">\"(the calculation of the state’s probability distribution is upper bounded by the number of nodes N which is further upper bounded by E, assuming that the graph is connected)\"</s><u style=\"color: green\">\"(calculating $Eq. 3$ is upper-bounded by $O(|E|)$, which in the worst case of a connected graph is $O(N^2)$\"</u>."
   ]
  }
 ],
 "metadata": {
  "kernelspec": {
   "display_name": "Python 3 (ipykernel)",
   "language": "python",
   "name": "python3"
  },
  "language_info": {
   "codemirror_mode": {
    "name": "ipython",
    "version": 3
   },
   "file_extension": ".py",
   "mimetype": "text/x-python",
   "name": "python",
   "nbconvert_exporter": "python",
   "pygments_lexer": "ipython3",
   "version": "3.10.9"
  }
 },
 "nbformat": 4,
 "nbformat_minor": 5
}
