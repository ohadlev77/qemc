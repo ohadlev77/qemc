{
 "cells": [
  {
   "cell_type": "code",
   "execution_count": 10,
   "id": "4acb3c17",
   "metadata": {},
   "outputs": [],
   "source": [
    "from qiskit.algorithms.optimizers import ADAM\n",
    "\n",
    "optimizer = ADAM(maxiter=300, eps=10**-8, lr=0.7)"
   ]
  },
  {
   "cell_type": "code",
   "execution_count": 33,
   "id": "e658f26e",
   "metadata": {},
   "outputs": [],
   "source": [
    "f = lambda x: x**100 + 321903 - 32322 * 43 - x**99"
   ]
  },
  {
   "cell_type": "code",
   "execution_count": 34,
   "id": "0cbf1737",
   "metadata": {},
   "outputs": [
    {
     "data": {
      "text/plain": [
       "<qiskit.algorithms.optimizers.optimizer.OptimizerResult at 0x7f0f22e5e830>"
      ]
     },
     "execution_count": 34,
     "metadata": {},
     "output_type": "execute_result"
    }
   ],
   "source": [
    "import numpy as np\n",
    "\n",
    "res = optimizer.minimize(f, x0=np.array([10]))\n",
    "res"
   ]
  },
  {
   "cell_type": "code",
   "execution_count": 35,
   "id": "86a5a85e",
   "metadata": {},
   "outputs": [
    {
     "name": "stdout",
     "output_type": "stream",
     "text": [
      "{   'fun': array([4.14697597e+75]),\n",
      "    'jac': None,\n",
      "    'nfev': 134,\n",
      "    'nit': None,\n",
      "    'njev': None,\n",
      "    'x': array([5.71495307])}\n"
     ]
    }
   ],
   "source": [
    "print(res)"
   ]
  }
 ],
 "metadata": {
  "kernelspec": {
   "display_name": "Python 3 (ipykernel)",
   "language": "python",
   "name": "python3"
  },
  "language_info": {
   "codemirror_mode": {
    "name": "ipython",
    "version": 3
   },
   "file_extension": ".py",
   "mimetype": "text/x-python",
   "name": "python",
   "nbconvert_exporter": "python",
   "pygments_lexer": "ipython3",
   "version": "3.10.12"
  }
 },
 "nbformat": 4,
 "nbformat_minor": 5
}
